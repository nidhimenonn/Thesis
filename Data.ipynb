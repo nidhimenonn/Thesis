{
  "nbformat": 4,
  "nbformat_minor": 0,
  "metadata": {
    "colab": {
      "name": "Data.ipynb",
      "version": "0.3.2",
      "provenance": []
    },
    "kernelspec": {
      "display_name": "Python 3",
      "language": "python",
      "name": "python3"
    }
  },
  "cells": [
    {
      "metadata": {
        "id": "zYMkKLNBkB0w",
        "colab_type": "code",
        "colab": {
          "base_uri": "https://localhost:8080/",
          "height": 35
        },
        "outputId": "65374f73-d1f8-4879-eb55-71b066442087"
      },
      "cell_type": "code",
      "source": [
        "# packages i need\n",
        "\n",
        "import numpy as np\n",
        "import pandas as pd\n",
        "import glob\n",
        "import os\n",
        "import csv\n",
        "import re\n",
        "import csv\n",
        "\n",
        "!ls"
      ],
      "execution_count": 1,
      "outputs": [
        {
          "output_type": "stream",
          "text": [
            "sample_data\n"
          ],
          "name": "stdout"
        }
      ]
    },
    {
      "metadata": {
        "id": "auj7PtZUkrCT",
        "colab_type": "code",
        "colab": {}
      },
      "cell_type": "code",
      "source": [
        "!pip install --upgrade -q gspread"
      ],
      "execution_count": 0,
      "outputs": []
    },
    {
      "metadata": {
        "id": "yk29sebzk0zd",
        "colab_type": "code",
        "colab": {}
      },
      "cell_type": "code",
      "source": [
        "# Authenticate to GCS.\n",
        "from google.colab import auth\n",
        "auth.authenticate_user()\n",
        "\n",
        "# https://cloud.google.com/resource-manager/docs/creating-managing-projects\n",
        "project_id = '[your Cloud Platform project ID]'\n",
        "\n",
        "# Create the service client.\n",
        "from googleapiclient.discovery import build\n",
        "gcs_service = build('storage', 'v1')\n",
        "\n",
        "from apiclient.http import MediaIoBaseDownload\n",
        "\n",
        "with open('/tmp/gsutil_download.txt', 'wb') as f:\n",
        "  # Download the file from a given Google Cloud Storage bucket.\n",
        "  request = gcs_service.objects().get_media(bucket=bucket_name,\n",
        "                                            object='to_upload.txt')\n",
        "  media = MediaIoBaseDownload(f, request)\n",
        "\n",
        "  done = False\n",
        "  while not done:\n",
        "    # _ is a placeholder for a progress object that we ignore.\n",
        "    # (Our file is small, so we skip reporting progress.)\n",
        "    _, done = media.next_chunk()        \n",
        "  \n",
        "print('Download complete')"
      ],
      "execution_count": 0,
      "outputs": []
    },
    {
      "metadata": {
        "id": "NhfQOLb3k0yq",
        "colab_type": "code",
        "colab": {}
      },
      "cell_type": "code",
      "source": [
        "# Inspect the file we downloaded to /tmp\n",
        "!cat /tmp/downloaded_from_gcs.txt"
      ],
      "execution_count": 0,
      "outputs": []
    },
    {
      "metadata": {
        "id": "2VIpYM_FkrBe",
        "colab_type": "code",
        "colab": {}
      },
      "cell_type": "code",
      "source": [
        "from google.colab import auth\n",
        "auth.authenticate_user()\n",
        "\n",
        "import gspread\n",
        "from oauth2client.client import GoogleCredentials\n",
        "\n",
        "gc = gspread.authorize(GoogleCredentials.get_application_default())\n",
        "\n",
        "worksheet = gc.open('Your spreadsheet name').sheet1\n",
        "\n",
        "# get_all_values gives a list of rows.\n",
        "rows = worksheet.get_all_values()\n",
        "print(rows)\n",
        "\n",
        "# Convert to a DataFrame and render.\n",
        "import pandas as pd\n",
        "pd.DataFrame.from_records(rows)"
      ],
      "execution_count": 0,
      "outputs": []
    },
    {
      "metadata": {
        "scrolled": false,
        "id": "ynnxlXMOkB01",
        "colab_type": "code",
        "colab": {},
        "outputId": "f526c1b3-2940-4d66-9859-3c5aecba878a"
      },
      "cell_type": "code",
      "source": [
        "import zipfile\n",
        "with zipfile.ZipFile(\"Nss62_1_new_format.zip\",\"r\") as zip_ref:\n",
        "    zip_ref.extractall(\"targetdir\")\n",
        "\n"
      ],
      "execution_count": 0,
      "outputs": [
        {
          "output_type": "error",
          "ename": "NameError",
          "evalue": "name 'targetdir' is not defined",
          "traceback": [
            "\u001b[0;31m---------------------------------------------------------------------------\u001b[0m",
            "\u001b[0;31mNameError\u001b[0m                                 Traceback (most recent call last)",
            "\u001b[0;32m<ipython-input-26-99a805f51247>\u001b[0m in \u001b[0;36m<module>\u001b[0;34m\u001b[0m\n\u001b[1;32m      2\u001b[0m \u001b[0;32mwith\u001b[0m \u001b[0mzipfile\u001b[0m\u001b[0;34m.\u001b[0m\u001b[0mZipFile\u001b[0m\u001b[0;34m(\u001b[0m\u001b[0;34m\"Nss62_1_new_format.zip\"\u001b[0m\u001b[0;34m,\u001b[0m\u001b[0;34m\"r\"\u001b[0m\u001b[0;34m)\u001b[0m \u001b[0;32mas\u001b[0m \u001b[0mzip_ref\u001b[0m\u001b[0;34m:\u001b[0m\u001b[0;34m\u001b[0m\u001b[0;34m\u001b[0m\u001b[0m\n\u001b[1;32m      3\u001b[0m     \u001b[0mzip_ref\u001b[0m\u001b[0;34m.\u001b[0m\u001b[0mextractall\u001b[0m\u001b[0;34m(\u001b[0m\u001b[0;34m\"targetdir\"\u001b[0m\u001b[0;34m)\u001b[0m\u001b[0;34m\u001b[0m\u001b[0;34m\u001b[0m\u001b[0m\n\u001b[0;32m----> 4\u001b[0;31m     \u001b[0mprint\u001b[0m\u001b[0;34m(\u001b[0m\u001b[0mtargetdir\u001b[0m\u001b[0;34m)\u001b[0m\u001b[0;34m\u001b[0m\u001b[0;34m\u001b[0m\u001b[0m\n\u001b[0m",
            "\u001b[0;31mNameError\u001b[0m: name 'targetdir' is not defined"
          ]
        }
      ]
    },
    {
      "metadata": {
        "id": "67YCC6c5kB07",
        "colab_type": "code",
        "colab": {},
        "outputId": "07b24a5d-5b32-4cd8-f60f-cf0ac7e8b280"
      },
      "cell_type": "code",
      "source": [
        "!ls"
      ],
      "execution_count": 0,
      "outputs": [
        {
          "output_type": "stream",
          "text": [
            " Data.ipynb\t\t    'Nss64_1.0_new format.zip'\t       targetdir\r\n",
            " Nss62_1_new_format.zip     'Nss66_1.0_type1_new format.zip'   Untitled.ipynb\r\n",
            "'Nss63_1.0_new format.zip'   nss_to_csv.py\r\n"
          ],
          "name": "stdout"
        }
      ]
    },
    {
      "metadata": {
        "id": "qwHDnUuMkB0_",
        "colab_type": "code",
        "colab": {}
      },
      "cell_type": "code",
      "source": [
        "# dta format from targetdir\n",
        "\n",
        "index_file_names = pd.read_stata(\"targetdir/Nss62_1.0_new_format/block_5_monthly_household_expenditure_on_food_and_non_food_items.dta\", chunksize=50)\n",
        "i = 0\n",
        "for chunk in index_file_names:\n",
        "    i = chunk\n",
        "    break"
      ],
      "execution_count": 0,
      "outputs": []
    },
    {
      "metadata": {
        "id": "-wX6Kcc1kB1C",
        "colab_type": "code",
        "colab": {},
        "outputId": "16ea2ca0-68f4-4c12-c046-f27ec7fb8dff"
      },
      "cell_type": "code",
      "source": [
        "i.columns"
      ],
      "execution_count": 0,
      "outputs": [
        {
          "output_type": "execute_result",
          "data": {
            "text/plain": [
              "Index(['HHID2', 'CentreCodeRoundShift', 'Vill_Blk_Slno', 'Round',\n",
              "       'ScheduleNumber', 'Sample', 'Sector', 'St_Region', 'State', 'District',\n",
              "       'Stratum', 'SubStratum', 'SubRound', 'SubSample', 'FODSubRegion',\n",
              "       'SegmentNo', 'Stage2_Stratum', 'Hhold_no', 'Level', 'B5_q1', 'B5_q3',\n",
              "       'B5_q4', 'B5_q5', 'nss', 'nsc', 'mlt', 'WGT_SS', 'WGT_SS_Combined'],\n",
              "      dtype='object')"
            ]
          },
          "metadata": {
            "tags": []
          },
          "execution_count": 3
        }
      ]
    },
    {
      "metadata": {
        "scrolled": true,
        "id": "8-t9115qkB1G",
        "colab_type": "code",
        "colab": {},
        "outputId": "6a302853-8887-4153-a3cf-5629aff6e10a"
      },
      "cell_type": "code",
      "source": [
        "i.head()"
      ],
      "execution_count": 0,
      "outputs": [
        {
          "output_type": "execute_result",
          "data": {
            "text/html": [
              "<div>\n",
              "<style scoped>\n",
              "    .dataframe tbody tr th:only-of-type {\n",
              "        vertical-align: middle;\n",
              "    }\n",
              "\n",
              "    .dataframe tbody tr th {\n",
              "        vertical-align: top;\n",
              "    }\n",
              "\n",
              "    .dataframe thead th {\n",
              "        text-align: right;\n",
              "    }\n",
              "</style>\n",
              "<table border=\"1\" class=\"dataframe\">\n",
              "  <thead>\n",
              "    <tr style=\"text-align: right;\">\n",
              "      <th></th>\n",
              "      <th>HHID2</th>\n",
              "      <th>CentreCodeRoundShift</th>\n",
              "      <th>Vill_Blk_Slno</th>\n",
              "      <th>Round</th>\n",
              "      <th>ScheduleNumber</th>\n",
              "      <th>Sample</th>\n",
              "      <th>Sector</th>\n",
              "      <th>St_Region</th>\n",
              "      <th>State</th>\n",
              "      <th>District</th>\n",
              "      <th>...</th>\n",
              "      <th>Level</th>\n",
              "      <th>B5_q1</th>\n",
              "      <th>B5_q3</th>\n",
              "      <th>B5_q4</th>\n",
              "      <th>B5_q5</th>\n",
              "      <th>nss</th>\n",
              "      <th>nsc</th>\n",
              "      <th>mlt</th>\n",
              "      <th>WGT_SS</th>\n",
              "      <th>WGT_SS_Combined</th>\n",
              "    </tr>\n",
              "  </thead>\n",
              "  <tbody>\n",
              "    <tr>\n",
              "      <th>0</th>\n",
              "      <td>505831101</td>\n",
              "      <td>005</td>\n",
              "      <td>50583</td>\n",
              "      <td>62</td>\n",
              "      <td>010</td>\n",
              "      <td>1</td>\n",
              "      <td>1</td>\n",
              "      <td>292</td>\n",
              "      <td>29</td>\n",
              "      <td>15</td>\n",
              "      <td>...</td>\n",
              "      <td>04</td>\n",
              "      <td>101</td>\n",
              "      <td>20.0</td>\n",
              "      <td>60.0</td>\n",
              "      <td>1</td>\n",
              "      <td>2</td>\n",
              "      <td>4</td>\n",
              "      <td>32192.89</td>\n",
              "      <td>321.9289</td>\n",
              "      <td>160.96445</td>\n",
              "    </tr>\n",
              "    <tr>\n",
              "      <th>1</th>\n",
              "      <td>505831101</td>\n",
              "      <td>006</td>\n",
              "      <td>50583</td>\n",
              "      <td>62</td>\n",
              "      <td>010</td>\n",
              "      <td>1</td>\n",
              "      <td>1</td>\n",
              "      <td>292</td>\n",
              "      <td>29</td>\n",
              "      <td>15</td>\n",
              "      <td>...</td>\n",
              "      <td>04</td>\n",
              "      <td>102</td>\n",
              "      <td>20.0</td>\n",
              "      <td>140.0</td>\n",
              "      <td>2</td>\n",
              "      <td>2</td>\n",
              "      <td>4</td>\n",
              "      <td>32192.89</td>\n",
              "      <td>321.9289</td>\n",
              "      <td>160.96445</td>\n",
              "    </tr>\n",
              "    <tr>\n",
              "      <th>2</th>\n",
              "      <td>505831101</td>\n",
              "      <td>007</td>\n",
              "      <td>50583</td>\n",
              "      <td>62</td>\n",
              "      <td>010</td>\n",
              "      <td>1</td>\n",
              "      <td>1</td>\n",
              "      <td>292</td>\n",
              "      <td>29</td>\n",
              "      <td>15</td>\n",
              "      <td>...</td>\n",
              "      <td>04</td>\n",
              "      <td>108</td>\n",
              "      <td>2.0</td>\n",
              "      <td>24.0</td>\n",
              "      <td>1</td>\n",
              "      <td>2</td>\n",
              "      <td>4</td>\n",
              "      <td>32192.89</td>\n",
              "      <td>321.9289</td>\n",
              "      <td>160.96445</td>\n",
              "    </tr>\n",
              "    <tr>\n",
              "      <th>3</th>\n",
              "      <td>505831101</td>\n",
              "      <td>008</td>\n",
              "      <td>50583</td>\n",
              "      <td>62</td>\n",
              "      <td>010</td>\n",
              "      <td>1</td>\n",
              "      <td>1</td>\n",
              "      <td>292</td>\n",
              "      <td>29</td>\n",
              "      <td>15</td>\n",
              "      <td>...</td>\n",
              "      <td>04</td>\n",
              "      <td>110</td>\n",
              "      <td>0.5</td>\n",
              "      <td>6.0</td>\n",
              "      <td>1</td>\n",
              "      <td>2</td>\n",
              "      <td>4</td>\n",
              "      <td>32192.89</td>\n",
              "      <td>321.9289</td>\n",
              "      <td>160.96445</td>\n",
              "    </tr>\n",
              "    <tr>\n",
              "      <th>4</th>\n",
              "      <td>505831101</td>\n",
              "      <td>009</td>\n",
              "      <td>50583</td>\n",
              "      <td>62</td>\n",
              "      <td>010</td>\n",
              "      <td>1</td>\n",
              "      <td>1</td>\n",
              "      <td>292</td>\n",
              "      <td>29</td>\n",
              "      <td>15</td>\n",
              "      <td>...</td>\n",
              "      <td>04</td>\n",
              "      <td>111</td>\n",
              "      <td>0.5</td>\n",
              "      <td>7.0</td>\n",
              "      <td>1</td>\n",
              "      <td>2</td>\n",
              "      <td>4</td>\n",
              "      <td>32192.89</td>\n",
              "      <td>321.9289</td>\n",
              "      <td>160.96445</td>\n",
              "    </tr>\n",
              "  </tbody>\n",
              "</table>\n",
              "<p>5 rows × 28 columns</p>\n",
              "</div>"
            ],
            "text/plain": [
              "       HHID2 CentreCodeRoundShift Vill_Blk_Slno Round ScheduleNumber Sample  \\\n",
              "0  505831101                  005         50583    62            010      1   \n",
              "1  505831101                  006         50583    62            010      1   \n",
              "2  505831101                  007         50583    62            010      1   \n",
              "3  505831101                  008         50583    62            010      1   \n",
              "4  505831101                  009         50583    62            010      1   \n",
              "\n",
              "  Sector St_Region State District       ...       Level B5_q1 B5_q3  B5_q4  \\\n",
              "0      1       292    29       15       ...          04   101  20.0   60.0   \n",
              "1      1       292    29       15       ...          04   102  20.0  140.0   \n",
              "2      1       292    29       15       ...          04   108   2.0   24.0   \n",
              "3      1       292    29       15       ...          04   110   0.5    6.0   \n",
              "4      1       292    29       15       ...          04   111   0.5    7.0   \n",
              "\n",
              "  B5_q5 nss nsc       mlt    WGT_SS WGT_SS_Combined  \n",
              "0     1   2   4  32192.89  321.9289       160.96445  \n",
              "1     2   2   4  32192.89  321.9289       160.96445  \n",
              "2     1   2   4  32192.89  321.9289       160.96445  \n",
              "3     1   2   4  32192.89  321.9289       160.96445  \n",
              "4     1   2   4  32192.89  321.9289       160.96445  \n",
              "\n",
              "[5 rows x 28 columns]"
            ]
          },
          "metadata": {
            "tags": []
          },
          "execution_count": 6
        }
      ]
    },
    {
      "metadata": {
        "id": "gx2WokH8kB1K",
        "colab_type": "code",
        "colab": {},
        "outputId": "a58cacc9-423b-43b2-c518-f099f08ecd91"
      },
      "cell_type": "code",
      "source": [
        "!ls -l targetdir/N*/"
      ],
      "execution_count": 0,
      "outputs": [
        {
          "output_type": "stream",
          "text": [
            "total 2359788\r\n",
            "-rw-rw-rw- 1 jovyan jovyan       179 Feb 26 15:20  autorun.inf\r\n",
            "-rw-rw-rw- 1 jovyan jovyan    110840 Feb 26 15:20  AutorunPro.exe\r\n",
            "-rw-rw-rw- 1 jovyan jovyan  64830330 Feb 26 15:20 'block 10_ monthly household expenditure on misc goods and services.dta'\r\n",
            "-rw-rw-rw- 1 jovyan jovyan  67740672 Feb 26 15:20 'block 10_ monthly household expenditure on misc goods and services.sas7bdat'\r\n",
            "-rw-rw-rw- 1 jovyan jovyan 190005866 Feb 26 15:20 'Block 10_ Monthly household expenditure on misc goods and services.sav'\r\n",
            "-rw-rw-rw- 1 jovyan jovyan  43848041 Feb 26 15:20 'block 11_household expenditure on durables.dta'\r\n",
            "-rw-rw-rw- 1 jovyan jovyan  51831808 Feb 26 15:20 'block 11_household expenditure on durables.sas7bdat'\r\n",
            "-rw-rw-rw- 1 jovyan jovyan 105843086 Feb 26 15:20 'Block 11_Household expenditure on durables.sav'\r\n",
            "-rw-rw-rw- 1 jovyan jovyan   4346434 Feb 26 15:20 'block 3_household characteristics.dta'\r\n",
            "-rw-rw-rw- 1 jovyan jovyan   4760576 Feb 26 15:20 'block 3_household characteristics.sas7bdat'\r\n",
            "-rw-rw-rw- 1 jovyan jovyan  13979130 Feb 26 15:20 'Block 3_Household Characteristics.sav'\r\n",
            "-rw-rw-rw- 1 jovyan jovyan  19199900 Feb 26 15:20 'block 4_person records.dta'\r\n",
            "-rw-rw-rw- 1 jovyan jovyan  23593984 Feb 26 15:20 'block 4_person records.sas7bdat'\r\n",
            "-rw-rw-rw- 1 jovyan jovyan  53102292 Feb 26 15:20 'Block 4_Person records.sav'\r\n",
            "-rw-rw-rw- 1 jovyan jovyan 181366392 Feb 26 15:20 'block_5_monthly household expenditure on food and non food items.dta'\r\n",
            "-rw-rw-rw- 1 jovyan jovyan 181366392 Feb 26 14:58  block_5_monthly_household_expenditure_on_food_and_non_food_items.dta\r\n",
            "-rw-rw-rw- 1 jovyan jovyan 184247296 Feb 26 15:21 'block 5_monthly household expenditure on food and non food items.sas7bdat'\r\n",
            "-rw-rw-rw- 1 jovyan jovyan 466496728 Feb 26 15:21 'Block 5_Monthly household expenditure on food and non food items.sav'\r\n",
            "-rw-rw-rw- 1 jovyan jovyan  19392504 Feb 26 15:21 'block 6_monthly household expenditure on fuel and light.dta'\r\n",
            "-rw-rw-rw- 1 jovyan jovyan  19702784 Feb 26 15:21 'block 6_monthly household expenditure on fuel and light.sas7bdat'\r\n",
            "-rw-rw-rw- 1 jovyan jovyan  49778618 Feb 26 15:21 'Block 6_Monthly household expenditure on fuel and light.sav'\r\n",
            "-rw-rw-rw- 1 jovyan jovyan  33146239 Feb 26 15:21 'block 7_household expenditure on clothing, bedding etc.dta'\r\n",
            "-rw-rw-rw- 1 jovyan jovyan  34026496 Feb 26 15:21 'block 7_household expenditure on clothing, bedding etc.sas7bdat'\r\n",
            "-rw-rw-rw- 1 jovyan jovyan  84371178 Feb 26 15:21 'Block 7_Household expenditure on clothing, bedding etc.sav'\r\n",
            "-rw-rw-rw- 1 jovyan jovyan  10960232 Feb 26 15:21 'block 8_household expenditure on footwear.dta'\r\n",
            "-rw-rw-rw- 1 jovyan jovyan  11465728 Feb 26 15:21 'block 8_household expenditure on footwear.sas7bdat'\r\n",
            "-rw-rw-rw- 1 jovyan jovyan  29650154 Feb 26 15:21 'Block 8_Household expenditure on footwear.sav'\r\n",
            "-rw-rw-rw- 1 jovyan jovyan  11098810 Feb 26 15:21 'block 9_household expenditure on education and medical (institutional) goods and services.dta'\r\n",
            "-rw-rw-rw- 1 jovyan jovyan  11596800 Feb 26 15:21 'block 9_household expenditure on education and medical (institutional) goods and services.sas7bdat'\r\n",
            "-rw-rw-rw- 1 jovyan jovyan  32517214 Feb 26 15:21 'Block 9_Household expenditure on education and medical (institutional) goods and services.sav'\r\n",
            "-rw-rw-rw- 1 jovyan jovyan   3871212 Feb 26 15:21 'blocks 1,2_identification of sample household.dta'\r\n",
            "-rw-rw-rw- 1 jovyan jovyan   4150272 Feb 26 15:21 'blocks 1,2_identification of sample household.sas7bdat'\r\n",
            "-rw-rw-rw- 1 jovyan jovyan  10773133 Feb 26 15:21 'Blocks 1,2_Identification of Sample Household.sav'\r\n",
            "drwxrwxrwx 3 jovyan jovyan         3 Feb 26 14:59  brandings\r\n",
            "-rw-rw-rw- 1 jovyan jovyan       397 Feb 26 15:22  index.html\r\n",
            "-rw-rw-rw- 1 jovyan jovyan 389307983 Feb 26 15:22  NSSO_62_Schedule_1_Consumer_Expenditure.Nesstar\r\n",
            "-rw-rw-rw- 1 jovyan jovyan     16123 Feb 26 15:22  README_FIRST.docx\r\n",
            "drwxrwxrwx 3 jovyan jovyan         3 Feb 26 14:59  software\r\n",
            "drwxrwxrwx 6 jovyan jovyan        16 Feb 26 14:59  survey0\r\n"
          ],
          "name": "stdout"
        }
      ]
    },
    {
      "metadata": {
        "id": "2OM5_Lw5kB1O",
        "colab_type": "code",
        "colab": {},
        "outputId": "27d84b92-4944-4159-fea3-2fa78763357c"
      },
      "cell_type": "code",
      "source": [
        "# show the files\n",
        "\n",
        "\n",
        "index_file_names"
      ],
      "execution_count": 0,
      "outputs": [
        {
          "output_type": "execute_result",
          "data": {
            "text/plain": [
              "<pandas.io.stata.StataReader at 0x7fc78a6b0358>"
            ]
          },
          "metadata": {
            "tags": []
          },
          "execution_count": 6
        }
      ]
    },
    {
      "metadata": {
        "id": "vcl7wYhBkB1S",
        "colab_type": "code",
        "colab": {}
      },
      "cell_type": "code",
      "source": [
        "# read the files in stata\n",
        "\n",
        "\n",
        "data = pd.read_stata(\"demographic_and_other_particulars_of_household_members.dta\")"
      ],
      "execution_count": 0,
      "outputs": []
    },
    {
      "metadata": {
        "id": "bca2LI_BkB1U",
        "colab_type": "code",
        "colab": {}
      },
      "cell_type": "code",
      "source": [
        "# read other files\n",
        "\n",
        "\n",
        "data_2 = pd.read_stata('summary of comsumer expenditure.dta')"
      ],
      "execution_count": 0,
      "outputs": []
    },
    {
      "metadata": {
        "id": "MngfXMNOkB1Y",
        "colab_type": "code",
        "colab": {}
      },
      "cell_type": "code",
      "source": [
        "\n",
        "# taking string and using the dictionary\n",
        "\n",
        "\n",
        "def pull_files(folder_name):\n",
        "    \"\"\"\n",
        "    INPUTS: Takes in a folder name as a stirng\n",
        "    OUTPUTS: DataFrame Dictionary\n",
        "    \"\"\"\n",
        "    output = {}\n",
        "    file_path = folder_name + '/*.dta'\n",
        "    index_file_names = glob.glob(file_path)\n",
        "    for file in index_file_names:\n",
        "        output[file] = pd.read_stata(file)\n",
        "        print(file + \" successfully uploaded, chief\")\n",
        "    return output\n",
        "    \n"
      ],
      "execution_count": 0,
      "outputs": []
    },
    {
      "metadata": {
        "id": "qSyFACnGkB1b",
        "colab_type": "code",
        "colab": {}
      },
      "cell_type": "code",
      "source": [
        "\n",
        "# using the data dictionary\n",
        "\n",
        "\n",
        "data_dict = pull_files(\"Nss64_1.0_type1_new format\")"
      ],
      "execution_count": 0,
      "outputs": []
    },
    {
      "metadata": {
        "id": "pje-GOE-kB1e",
        "colab_type": "code",
        "colab": {}
      },
      "cell_type": "code",
      "source": [
        "# 2\n",
        "\n",
        "curr = data_dict[\"Nss64_1.0_type1_new format/identification of sample household.dta\"].head()"
      ],
      "execution_count": 0,
      "outputs": []
    },
    {
      "metadata": {
        "id": "HBOMMx_kkB1i",
        "colab_type": "code",
        "colab": {}
      },
      "cell_type": "code",
      "source": [
        "\n",
        "# 3\n",
        "\n",
        "\n",
        "curr.head()"
      ],
      "execution_count": 0,
      "outputs": []
    },
    {
      "metadata": {
        "id": "NlmjEyxwkB1l",
        "colab_type": "code",
        "colab": {}
      },
      "cell_type": "code",
      "source": [
        ""
      ],
      "execution_count": 0,
      "outputs": []
    },
    {
      "metadata": {
        "id": "jqpRV_ZLkB1p",
        "colab_type": "code",
        "colab": {}
      },
      "cell_type": "code",
      "source": [
        ""
      ],
      "execution_count": 0,
      "outputs": []
    }
  ]
}